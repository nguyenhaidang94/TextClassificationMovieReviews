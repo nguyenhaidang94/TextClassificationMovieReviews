{
  "nbformat": 4,
  "nbformat_minor": 0,
  "metadata": {
    "colab": {
      "name": "Text_Classification_Movie_Reviews.ipynb",
      "version": "0.3.2",
      "provenance": [],
      "collapsed_sections": [],
      "include_colab_link": true
    },
    "kernelspec": {
      "name": "python3",
      "display_name": "Python 3"
    },
    "accelerator": "GPU"
  },
  "cells": [
    {
      "cell_type": "markdown",
      "metadata": {
        "id": "view-in-github",
        "colab_type": "text"
      },
      "source": [
        "<a href=\"https://colab.research.google.com/github/nguyenhaidang94/TextClassificationMovieReviews/blob/master/Text_Classification_Movie_Reviews.ipynb\" target=\"_parent\"><img src=\"https://colab.research.google.com/assets/colab-badge.svg\" alt=\"Open In Colab\"/></a>"
      ]
    },
    {
      "cell_type": "code",
      "metadata": {
        "id": "x_BPi-73k1wf",
        "colab_type": "code",
        "colab": {
          "base_uri": "https://localhost:8080/",
          "height": 278
        },
        "outputId": "f809f443-d029-48c1-917c-69744c0c6cd5"
      },
      "source": [
        "!pip install numpy==1.16.1"
      ],
      "execution_count": 6,
      "outputs": [
        {
          "output_type": "stream",
          "text": [
            "Collecting numpy==1.16.1\n",
            "\u001b[?25l  Downloading https://files.pythonhosted.org/packages/f5/bf/4981bcbee43934f0adb8f764a1e70ab0ee5a448f6505bd04a87a2fda2a8b/numpy-1.16.1-cp36-cp36m-manylinux1_x86_64.whl (17.3MB)\n",
            "\u001b[K     |████████████████████████████████| 17.3MB 5.1MB/s \n",
            "\u001b[31mERROR: datascience 0.10.6 has requirement folium==0.2.1, but you'll have folium 0.8.3 which is incompatible.\u001b[0m\n",
            "\u001b[31mERROR: albumentations 0.1.12 has requirement imgaug<0.2.7,>=0.2.5, but you'll have imgaug 0.2.8 which is incompatible.\u001b[0m\n",
            "\u001b[?25hInstalling collected packages: numpy\n",
            "  Found existing installation: numpy 1.16.3\n",
            "    Uninstalling numpy-1.16.3:\n",
            "      Successfully uninstalled numpy-1.16.3\n",
            "Successfully installed numpy-1.16.1\n"
          ],
          "name": "stdout"
        },
        {
          "output_type": "display_data",
          "data": {
            "application/vnd.colab-display-data+json": {
              "pip_warning": {
                "packages": [
                  "numpy"
                ]
              }
            }
          },
          "metadata": {
            "tags": []
          }
        }
      ]
    },
    {
      "cell_type": "code",
      "metadata": {
        "id": "7OKcZHssjsho",
        "colab_type": "code",
        "colab": {
          "base_uri": "https://localhost:8080/",
          "height": 52
        },
        "outputId": "b1d036aa-bf77-4c91-9583-f0172ab314b7"
      },
      "source": [
        "from __future__ import absolute_import, division, print_function\n",
        "\n",
        "import tensorflow as tf\n",
        "import keras\n",
        "\n",
        "import numpy as np\n",
        "\n",
        "print(tf.__version__)"
      ],
      "execution_count": 1,
      "outputs": [
        {
          "output_type": "stream",
          "text": [
            "1.13.1\n"
          ],
          "name": "stdout"
        },
        {
          "output_type": "stream",
          "text": [
            "Using TensorFlow backend.\n"
          ],
          "name": "stderr"
        }
      ]
    },
    {
      "cell_type": "markdown",
      "metadata": {
        "id": "lhmfcC3KmUzn",
        "colab_type": "text"
      },
      "source": [
        "## Download the IMDB dataset"
      ]
    },
    {
      "cell_type": "code",
      "metadata": {
        "id": "_HA266m6kEGL",
        "colab_type": "code",
        "colab": {}
      },
      "source": [
        "imdb = keras.datasets.imdb\n",
        "(train_data, train_labels), (test_data, test_labels) = imdb.load_data(num_words=10000)"
      ],
      "execution_count": 0,
      "outputs": []
    },
    {
      "cell_type": "code",
      "metadata": {
        "id": "rDn_V2nJkW9U",
        "colab_type": "code",
        "colab": {
          "base_uri": "https://localhost:8080/",
          "height": 34
        },
        "outputId": "d01b8eff-4e6d-4780-99a1-b930ed55ec7a"
      },
      "source": [
        "print(\"Training entries: {}, labels: {}\".format(len(train_data), len(train_labels)))"
      ],
      "execution_count": 3,
      "outputs": [
        {
          "output_type": "stream",
          "text": [
            "Training entries: 25000, labels: 25000\n"
          ],
          "name": "stdout"
        }
      ]
    },
    {
      "cell_type": "code",
      "metadata": {
        "id": "f-L0oyHAlOq9",
        "colab_type": "code",
        "colab": {
          "base_uri": "https://localhost:8080/",
          "height": 54
        },
        "outputId": "a0ef3d78-8e2f-4a3a-ac8c-7f1b3a37c2c5"
      },
      "source": [
        "print(train_data[0])"
      ],
      "execution_count": 4,
      "outputs": [
        {
          "output_type": "stream",
          "text": [
            "[1, 14, 22, 16, 43, 530, 973, 1622, 1385, 65, 458, 4468, 66, 3941, 4, 173, 36, 256, 5, 25, 100, 43, 838, 112, 50, 670, 2, 9, 35, 480, 284, 5, 150, 4, 172, 112, 167, 2, 336, 385, 39, 4, 172, 4536, 1111, 17, 546, 38, 13, 447, 4, 192, 50, 16, 6, 147, 2025, 19, 14, 22, 4, 1920, 4613, 469, 4, 22, 71, 87, 12, 16, 43, 530, 38, 76, 15, 13, 1247, 4, 22, 17, 515, 17, 12, 16, 626, 18, 2, 5, 62, 386, 12, 8, 316, 8, 106, 5, 4, 2223, 5244, 16, 480, 66, 3785, 33, 4, 130, 12, 16, 38, 619, 5, 25, 124, 51, 36, 135, 48, 25, 1415, 33, 6, 22, 12, 215, 28, 77, 52, 5, 14, 407, 16, 82, 2, 8, 4, 107, 117, 5952, 15, 256, 4, 2, 7, 3766, 5, 723, 36, 71, 43, 530, 476, 26, 400, 317, 46, 7, 4, 2, 1029, 13, 104, 88, 4, 381, 15, 297, 98, 32, 2071, 56, 26, 141, 6, 194, 7486, 18, 4, 226, 22, 21, 134, 476, 26, 480, 5, 144, 30, 5535, 18, 51, 36, 28, 224, 92, 25, 104, 4, 226, 65, 16, 38, 1334, 88, 12, 16, 283, 5, 16, 4472, 113, 103, 32, 15, 16, 5345, 19, 178, 32]\n"
          ],
          "name": "stdout"
        }
      ]
    },
    {
      "cell_type": "code",
      "metadata": {
        "id": "Kwcp2Y7hlUJ_",
        "colab_type": "code",
        "colab": {
          "base_uri": "https://localhost:8080/",
          "height": 34
        },
        "outputId": "ce4304cd-3f73-402f-e36c-c70531b161e7"
      },
      "source": [
        "len(train_data[0]), len(train_data[1])"
      ],
      "execution_count": 5,
      "outputs": [
        {
          "output_type": "execute_result",
          "data": {
            "text/plain": [
              "(218, 189)"
            ]
          },
          "metadata": {
            "tags": []
          },
          "execution_count": 5
        }
      ]
    },
    {
      "cell_type": "markdown",
      "metadata": {
        "id": "-sGPy8Cgmcyr",
        "colab_type": "text"
      },
      "source": [
        "## Convert the integers back to words"
      ]
    },
    {
      "cell_type": "code",
      "metadata": {
        "id": "9j7DPeAUlVta",
        "colab_type": "code",
        "colab": {
          "base_uri": "https://localhost:8080/",
          "height": 52
        },
        "outputId": "85c0529a-18d4-436b-c815-25c0611b923e"
      },
      "source": [
        "# A dictionary mapping words to an integer index\n",
        "word_index = imdb.get_word_index()\n",
        "\n",
        "# The first indices are reserved\n",
        "word_index = {k:(v+3) for k,v in word_index.items()} \n",
        "word_index[\"<PAD>\"] = 0\n",
        "word_index[\"<START>\"] = 1\n",
        "word_index[\"<UNK>\"] = 2  # unknown\n",
        "word_index[\"<UNUSED>\"] = 3\n",
        "\n",
        "reverse_word_index = dict([(value, key) for (key, value) in word_index.items()])\n",
        "\n",
        "def decode_review(text):\n",
        "    return ' '.join([reverse_word_index.get(i, '?') for i in text])"
      ],
      "execution_count": 6,
      "outputs": [
        {
          "output_type": "stream",
          "text": [
            "Downloading data from https://s3.amazonaws.com/text-datasets/imdb_word_index.json\n",
            "1646592/1641221 [==============================] - 0s 0us/step\n"
          ],
          "name": "stdout"
        }
      ]
    },
    {
      "cell_type": "code",
      "metadata": {
        "id": "U1jlWtn-lq1y",
        "colab_type": "code",
        "colab": {
          "base_uri": "https://localhost:8080/",
          "height": 54
        },
        "outputId": "21ed5d2c-aa44-41d1-c8b6-6c6a16492638"
      },
      "source": [
        "decode_review(train_data[0])"
      ],
      "execution_count": 7,
      "outputs": [
        {
          "output_type": "execute_result",
          "data": {
            "text/plain": [
              "\"<START> this film was just brilliant casting location scenery story direction everyone's really suited the part they played and you could just imagine being there robert <UNK> is an amazing actor and now the same being director <UNK> father came from the same scottish island as myself so i loved the fact there was a real connection with this film the witty remarks throughout the film were great it was just brilliant so much that i bought the film as soon as it was released for <UNK> and would recommend it to everyone to watch and the fly fishing was amazing really cried at the end it was so sad and you know what they say if you cry at a film it must have been good and this definitely was also <UNK> to the two little boy's that played the <UNK> of norman and paul they were just brilliant children are often left out of the <UNK> list i think because the stars that play them all grown up are such a big profile for the whole film but these children are amazing and should be praised for what they have done don't you think the whole story was so lovely because it was true and was someone's life after all that was shared with us all\""
            ]
          },
          "metadata": {
            "tags": []
          },
          "execution_count": 7
        }
      ]
    },
    {
      "cell_type": "markdown",
      "metadata": {
        "id": "aqTtTnfFmeNJ",
        "colab_type": "text"
      },
      "source": [
        "## Prepare the data"
      ]
    },
    {
      "cell_type": "code",
      "metadata": {
        "id": "dY2BuvlkqXQb",
        "colab_type": "code",
        "colab": {
          "base_uri": "https://localhost:8080/",
          "height": 34
        },
        "outputId": "e4c74e21-bc2f-4360-afbb-1708eb50d787"
      },
      "source": [
        "len(train_data[0]), len(train_data[1])"
      ],
      "execution_count": 20,
      "outputs": [
        {
          "output_type": "execute_result",
          "data": {
            "text/plain": [
              "(218, 189)"
            ]
          },
          "metadata": {
            "tags": []
          },
          "execution_count": 20
        }
      ]
    },
    {
      "cell_type": "markdown",
      "metadata": {
        "id": "_NHWEjACoTAe",
        "colab_type": "text"
      },
      "source": [
        "The reviews—the arrays of integers—must be converted to tensors before fed into the neural network.\n",
        "We can** pad the arrays so they all have the same length**, then **create an integer tensor of shape max_length x num_reviews**.\n",
        "We can** use an embedding layer capable of handling this shape as the first layer in our network**."
      ]
    },
    {
      "cell_type": "code",
      "metadata": {
        "id": "rEcigQbVlzfX",
        "colab_type": "code",
        "colab": {}
      },
      "source": [
        "train_data = keras.preprocessing.sequence.pad_sequences(train_data,\n",
        "                                                        value=word_index[\"<PAD>\"],\n",
        "                                                        padding='post',\n",
        "                                                        maxlen=256)\n",
        "test_data = keras.preprocessing.sequence.pad_sequences(test_data,\n",
        "                                                       value=word_index[\"<PAD>\"],\n",
        "                                                       padding='post',\n",
        "                                                       maxlen=256)"
      ],
      "execution_count": 0,
      "outputs": []
    },
    {
      "cell_type": "code",
      "metadata": {
        "id": "UEn-Tw2Aqvl5",
        "colab_type": "code",
        "colab": {
          "base_uri": "https://localhost:8080/",
          "height": 34
        },
        "outputId": "410ce663-3858-47ac-80b7-be29955abc30"
      },
      "source": [
        "len(train_data[0]), len(train_data[1])"
      ],
      "execution_count": 27,
      "outputs": [
        {
          "output_type": "execute_result",
          "data": {
            "text/plain": [
              "(256, 256)"
            ]
          },
          "metadata": {
            "tags": []
          },
          "execution_count": 27
        }
      ]
    },
    {
      "cell_type": "code",
      "metadata": {
        "id": "wZi_X24kq0K4",
        "colab_type": "code",
        "colab": {
          "base_uri": "https://localhost:8080/",
          "height": 347
        },
        "outputId": "678f12b6-4302-45a4-a910-1d3a462536f4"
      },
      "source": [
        "print(train_data[0])"
      ],
      "execution_count": 26,
      "outputs": [
        {
          "output_type": "stream",
          "text": [
            "[   1   14   22   16   43  530  973 1622 1385   65  458 4468   66 3941\n",
            "    4  173   36  256    5   25  100   43  838  112   50  670    2    9\n",
            "   35  480  284    5  150    4  172  112  167    2  336  385   39    4\n",
            "  172 4536 1111   17  546   38   13  447    4  192   50   16    6  147\n",
            " 2025   19   14   22    4 1920 4613  469    4   22   71   87   12   16\n",
            "   43  530   38   76   15   13 1247    4   22   17  515   17   12   16\n",
            "  626   18    2    5   62  386   12    8  316    8  106    5    4 2223\n",
            " 5244   16  480   66 3785   33    4  130   12   16   38  619    5   25\n",
            "  124   51   36  135   48   25 1415   33    6   22   12  215   28   77\n",
            "   52    5   14  407   16   82    2    8    4  107  117 5952   15  256\n",
            "    4    2    7 3766    5  723   36   71   43  530  476   26  400  317\n",
            "   46    7    4    2 1029   13  104   88    4  381   15  297   98   32\n",
            " 2071   56   26  141    6  194 7486   18    4  226   22   21  134  476\n",
            "   26  480    5  144   30 5535   18   51   36   28  224   92   25  104\n",
            "    4  226   65   16   38 1334   88   12   16  283    5   16 4472  113\n",
            "  103   32   15   16 5345   19  178   32    0    0    0    0    0    0\n",
            "    0    0    0    0    0    0    0    0    0    0    0    0    0    0\n",
            "    0    0    0    0    0    0    0    0    0    0    0    0    0    0\n",
            "    0    0    0    0]\n"
          ],
          "name": "stdout"
        }
      ]
    },
    {
      "cell_type": "markdown",
      "metadata": {
        "id": "boYzrN4WrHsq",
        "colab_type": "text"
      },
      "source": [
        "## Build the model"
      ]
    },
    {
      "cell_type": "markdown",
      "metadata": {
        "id": "KNBxHNvarokF",
        "colab_type": "text"
      },
      "source": [
        "1.   The first layer is an **Embedding layer**. This layer **takes the integer-encoded vocabulary and looks up the embedding vector for each word-index**. These vectors are learned as the model trains. The vectors add a dimension to the output array. The **resulting dimensions are: (batch, sequence, embedding)**. Output shape: **number of docs x maxlen(=256) x 16**.\n",
        "2.   Next, a **GlobalAveragePooling1D** layer returns a **fixed-length output vector** for each example by **averaging over the sequence dimension**. This allows the model to handle input of variable length, in the simplest way possible.\n",
        "3.  This fixed-length output vector is piped through a fully-connected (Dense) layer with **16 hidden units**.\n",
        "4.  The last layer is densely connected with a single output node. Using the sigmoid activation function, this value is **a float between 0 and 1**, representing a probability."
      ]
    },
    {
      "cell_type": "code",
      "metadata": {
        "id": "dDT6ZusBrFqG",
        "colab_type": "code",
        "colab": {
          "base_uri": "https://localhost:8080/",
          "height": 350
        },
        "outputId": "6b5a5935-7d5a-4a47-bd25-3129a8f150e6"
      },
      "source": [
        "# input shape is the vocabulary count used for the movie reviews (10,000 words)\n",
        "vocab_size = 10000\n",
        "\n",
        "model = keras.Sequential()\n",
        "model.add(keras.layers.Embedding(vocab_size, 16))\n",
        "model.add(keras.layers.GlobalAveragePooling1D())\n",
        "model.add(keras.layers.Dense(16, activation=tf.nn.relu))\n",
        "model.add(keras.layers.Dense(1, activation=tf.nn.sigmoid))\n",
        "model.summary()"
      ],
      "execution_count": 29,
      "outputs": [
        {
          "output_type": "stream",
          "text": [
            "WARNING:tensorflow:From /usr/local/lib/python3.6/dist-packages/tensorflow/python/framework/op_def_library.py:263: colocate_with (from tensorflow.python.framework.ops) is deprecated and will be removed in a future version.\n",
            "Instructions for updating:\n",
            "Colocations handled automatically by placer.\n",
            "_________________________________________________________________\n",
            "Layer (type)                 Output Shape              Param #   \n",
            "=================================================================\n",
            "embedding_1 (Embedding)      (None, None, 16)          160000    \n",
            "_________________________________________________________________\n",
            "global_average_pooling1d_1 ( (None, 16)                0         \n",
            "_________________________________________________________________\n",
            "dense_1 (Dense)              (None, 16)                272       \n",
            "_________________________________________________________________\n",
            "dense_2 (Dense)              (None, 1)                 17        \n",
            "=================================================================\n",
            "Total params: 160,289\n",
            "Trainable params: 160,289\n",
            "Non-trainable params: 0\n",
            "_________________________________________________________________\n"
          ],
          "name": "stdout"
        }
      ]
    },
    {
      "cell_type": "code",
      "metadata": {
        "id": "MBw900HasBDC",
        "colab_type": "code",
        "colab": {}
      },
      "source": [
        "model.compile(optimizer='adam',\n",
        "              loss='binary_crossentropy',\n",
        "              metrics=['acc'])"
      ],
      "execution_count": 0,
      "outputs": []
    },
    {
      "cell_type": "markdown",
      "metadata": {
        "id": "VbVDfxQAu75D",
        "colab_type": "text"
      },
      "source": [
        "## Create a validation set"
      ]
    },
    {
      "cell_type": "code",
      "metadata": {
        "id": "tunshVhZu4VL",
        "colab_type": "code",
        "colab": {}
      },
      "source": [
        "x_val = train_data[:10000]\n",
        "partial_x_train = train_data[10000:]\n",
        "\n",
        "y_val = train_labels[:10000]\n",
        "partial_y_train = train_labels[10000:]"
      ],
      "execution_count": 0,
      "outputs": []
    },
    {
      "cell_type": "markdown",
      "metadata": {
        "id": "-DfhQqF1vGtM",
        "colab_type": "text"
      },
      "source": [
        "## Train the model"
      ]
    },
    {
      "cell_type": "code",
      "metadata": {
        "id": "pby0NJTpvIDx",
        "colab_type": "code",
        "colab": {
          "base_uri": "https://localhost:8080/",
          "height": 1476
        },
        "outputId": "42f45f34-a0b5-40b6-f258-7dc23aad06b4"
      },
      "source": [
        "history = model.fit(partial_x_train,\n",
        "                    partial_y_train,\n",
        "                    epochs=40,\n",
        "                    batch_size=512,\n",
        "                    validation_data=(x_val, y_val),\n",
        "                    verbose=1)"
      ],
      "execution_count": 32,
      "outputs": [
        {
          "output_type": "stream",
          "text": [
            "WARNING:tensorflow:From /usr/local/lib/python3.6/dist-packages/tensorflow/python/ops/math_ops.py:3066: to_int32 (from tensorflow.python.ops.math_ops) is deprecated and will be removed in a future version.\n",
            "Instructions for updating:\n",
            "Use tf.cast instead.\n",
            "Train on 15000 samples, validate on 10000 samples\n",
            "Epoch 1/40\n",
            "15000/15000 [==============================] - 3s 177us/step - loss: 0.6916 - acc: 0.6075 - val_loss: 0.6895 - val_acc: 0.5802\n",
            "Epoch 2/40\n",
            "15000/15000 [==============================] - 0s 10us/step - loss: 0.6851 - acc: 0.7127 - val_loss: 0.6804 - val_acc: 0.7442\n",
            "Epoch 3/40\n",
            "15000/15000 [==============================] - 0s 11us/step - loss: 0.6713 - acc: 0.7485 - val_loss: 0.6626 - val_acc: 0.7320\n",
            "Epoch 4/40\n",
            "15000/15000 [==============================] - 0s 10us/step - loss: 0.6454 - acc: 0.7678 - val_loss: 0.6330 - val_acc: 0.7713\n",
            "Epoch 5/40\n",
            "15000/15000 [==============================] - 0s 11us/step - loss: 0.6069 - acc: 0.7937 - val_loss: 0.5930 - val_acc: 0.7877\n",
            "Epoch 6/40\n",
            "15000/15000 [==============================] - 0s 10us/step - loss: 0.5598 - acc: 0.8131 - val_loss: 0.5492 - val_acc: 0.8032\n",
            "Epoch 7/40\n",
            "15000/15000 [==============================] - 0s 10us/step - loss: 0.5089 - acc: 0.8345 - val_loss: 0.5022 - val_acc: 0.8208\n",
            "Epoch 8/40\n",
            "15000/15000 [==============================] - 0s 11us/step - loss: 0.4597 - acc: 0.8512 - val_loss: 0.4602 - val_acc: 0.8367\n",
            "Epoch 9/40\n",
            "15000/15000 [==============================] - 0s 10us/step - loss: 0.4155 - acc: 0.8648 - val_loss: 0.4243 - val_acc: 0.8476\n",
            "Epoch 10/40\n",
            "15000/15000 [==============================] - 0s 11us/step - loss: 0.3781 - acc: 0.8769 - val_loss: 0.3957 - val_acc: 0.8534\n",
            "Epoch 11/40\n",
            "15000/15000 [==============================] - 0s 11us/step - loss: 0.3468 - acc: 0.8863 - val_loss: 0.3726 - val_acc: 0.8612\n",
            "Epoch 12/40\n",
            "15000/15000 [==============================] - 0s 10us/step - loss: 0.3210 - acc: 0.8931 - val_loss: 0.3542 - val_acc: 0.8672\n",
            "Epoch 13/40\n",
            "15000/15000 [==============================] - 0s 10us/step - loss: 0.2990 - acc: 0.8989 - val_loss: 0.3414 - val_acc: 0.8662\n",
            "Epoch 14/40\n",
            "15000/15000 [==============================] - 0s 10us/step - loss: 0.2801 - acc: 0.9038 - val_loss: 0.3286 - val_acc: 0.8736\n",
            "Epoch 15/40\n",
            "15000/15000 [==============================] - 0s 10us/step - loss: 0.2634 - acc: 0.9091 - val_loss: 0.3189 - val_acc: 0.8759\n",
            "Epoch 16/40\n",
            "15000/15000 [==============================] - 0s 10us/step - loss: 0.2486 - acc: 0.9148 - val_loss: 0.3119 - val_acc: 0.8777\n",
            "Epoch 17/40\n",
            "15000/15000 [==============================] - 0s 10us/step - loss: 0.2355 - acc: 0.9193 - val_loss: 0.3051 - val_acc: 0.8796\n",
            "Epoch 18/40\n",
            "15000/15000 [==============================] - 0s 11us/step - loss: 0.2235 - acc: 0.9233 - val_loss: 0.3004 - val_acc: 0.8801\n",
            "Epoch 19/40\n",
            "15000/15000 [==============================] - 0s 10us/step - loss: 0.2125 - acc: 0.9266 - val_loss: 0.2965 - val_acc: 0.8813\n",
            "Epoch 20/40\n",
            "15000/15000 [==============================] - 0s 10us/step - loss: 0.2022 - acc: 0.9300 - val_loss: 0.2931 - val_acc: 0.8822\n",
            "Epoch 21/40\n",
            "15000/15000 [==============================] - 0s 10us/step - loss: 0.1927 - acc: 0.9347 - val_loss: 0.2904 - val_acc: 0.8830\n",
            "Epoch 22/40\n",
            "15000/15000 [==============================] - 0s 10us/step - loss: 0.1840 - acc: 0.9395 - val_loss: 0.2886 - val_acc: 0.8839\n",
            "Epoch 23/40\n",
            "15000/15000 [==============================] - 0s 10us/step - loss: 0.1762 - acc: 0.9426 - val_loss: 0.2874 - val_acc: 0.8841\n",
            "Epoch 24/40\n",
            "15000/15000 [==============================] - 0s 11us/step - loss: 0.1690 - acc: 0.9459 - val_loss: 0.2866 - val_acc: 0.8850\n",
            "Epoch 25/40\n",
            "15000/15000 [==============================] - 0s 10us/step - loss: 0.1606 - acc: 0.9497 - val_loss: 0.2864 - val_acc: 0.8844\n",
            "Epoch 26/40\n",
            "15000/15000 [==============================] - 0s 10us/step - loss: 0.1540 - acc: 0.9519 - val_loss: 0.2871 - val_acc: 0.8839\n",
            "Epoch 27/40\n",
            "15000/15000 [==============================] - 0s 10us/step - loss: 0.1476 - acc: 0.9547 - val_loss: 0.2877 - val_acc: 0.8855\n",
            "Epoch 28/40\n",
            "15000/15000 [==============================] - 0s 11us/step - loss: 0.1413 - acc: 0.9570 - val_loss: 0.2878 - val_acc: 0.8855\n",
            "Epoch 29/40\n",
            "15000/15000 [==============================] - 0s 11us/step - loss: 0.1354 - acc: 0.9597 - val_loss: 0.2891 - val_acc: 0.8857\n",
            "Epoch 30/40\n",
            "15000/15000 [==============================] - 0s 11us/step - loss: 0.1299 - acc: 0.9617 - val_loss: 0.2911 - val_acc: 0.8862\n",
            "Epoch 31/40\n",
            "15000/15000 [==============================] - 0s 11us/step - loss: 0.1251 - acc: 0.9631 - val_loss: 0.2920 - val_acc: 0.8863\n",
            "Epoch 32/40\n",
            "15000/15000 [==============================] - 0s 10us/step - loss: 0.1197 - acc: 0.9653 - val_loss: 0.2939 - val_acc: 0.8868\n",
            "Epoch 33/40\n",
            "15000/15000 [==============================] - 0s 11us/step - loss: 0.1151 - acc: 0.9679 - val_loss: 0.2960 - val_acc: 0.8853\n",
            "Epoch 34/40\n",
            "15000/15000 [==============================] - 0s 11us/step - loss: 0.1101 - acc: 0.9697 - val_loss: 0.2988 - val_acc: 0.8847\n",
            "Epoch 35/40\n",
            "15000/15000 [==============================] - 0s 11us/step - loss: 0.1062 - acc: 0.9702 - val_loss: 0.3025 - val_acc: 0.8857\n",
            "Epoch 36/40\n",
            "15000/15000 [==============================] - 0s 10us/step - loss: 0.1021 - acc: 0.9721 - val_loss: 0.3056 - val_acc: 0.8831\n",
            "Epoch 37/40\n",
            "15000/15000 [==============================] - 0s 11us/step - loss: 0.0979 - acc: 0.9745 - val_loss: 0.3086 - val_acc: 0.8830\n",
            "Epoch 38/40\n",
            "15000/15000 [==============================] - 0s 10us/step - loss: 0.0940 - acc: 0.9761 - val_loss: 0.3110 - val_acc: 0.8824\n",
            "Epoch 39/40\n",
            "15000/15000 [==============================] - 0s 10us/step - loss: 0.0898 - acc: 0.9771 - val_loss: 0.3142 - val_acc: 0.8823\n",
            "Epoch 40/40\n",
            "15000/15000 [==============================] - 0s 10us/step - loss: 0.0861 - acc: 0.9786 - val_loss: 0.3181 - val_acc: 0.8818\n"
          ],
          "name": "stdout"
        }
      ]
    },
    {
      "cell_type": "markdown",
      "metadata": {
        "id": "dJkus9YGvRor",
        "colab_type": "text"
      },
      "source": [
        "## Evaluate the model"
      ]
    },
    {
      "cell_type": "code",
      "metadata": {
        "id": "qTtx1i5jvT5Y",
        "colab_type": "code",
        "colab": {
          "base_uri": "https://localhost:8080/",
          "height": 52
        },
        "outputId": "0d8a44b2-fc59-4ba6-9802-c8f6b5fd0304"
      },
      "source": [
        "results = model.evaluate(test_data, test_labels)\n",
        "print(results)"
      ],
      "execution_count": 33,
      "outputs": [
        {
          "output_type": "stream",
          "text": [
            "25000/25000 [==============================] - 1s 39us/step\n",
            "[0.3405386980009079, 0.86964]\n"
          ],
          "name": "stdout"
        }
      ]
    },
    {
      "cell_type": "markdown",
      "metadata": {
        "id": "WznOnvMfvu9K",
        "colab_type": "text"
      },
      "source": [
        "## Create a graph of accuracy and loss over time"
      ]
    },
    {
      "cell_type": "code",
      "metadata": {
        "id": "inXhYMMPvzSb",
        "colab_type": "code",
        "colab": {
          "base_uri": "https://localhost:8080/",
          "height": 34
        },
        "outputId": "68170964-61bb-4b52-e5c9-0c6e1d674db5"
      },
      "source": [
        "history_dict = history.history\n",
        "history_dict.keys()"
      ],
      "execution_count": 34,
      "outputs": [
        {
          "output_type": "execute_result",
          "data": {
            "text/plain": [
              "dict_keys(['val_loss', 'val_acc', 'loss', 'acc'])"
            ]
          },
          "metadata": {
            "tags": []
          },
          "execution_count": 34
        }
      ]
    },
    {
      "cell_type": "code",
      "metadata": {
        "id": "xR7ZIxetv2og",
        "colab_type": "code",
        "colab": {
          "base_uri": "https://localhost:8080/",
          "height": 295
        },
        "outputId": "dcb18000-d1e4-41d2-c415-c2a429641f22"
      },
      "source": [
        "import matplotlib.pyplot as plt\n",
        "\n",
        "acc = history_dict['acc']\n",
        "val_acc = history_dict['val_acc']\n",
        "loss = history_dict['loss']\n",
        "val_loss = history_dict['val_loss']\n",
        "\n",
        "epochs = range(1, len(acc) + 1)\n",
        "\n",
        "# \"bo\" is for \"blue dot\"\n",
        "plt.plot(epochs, loss, 'bo', label='Training loss')\n",
        "# b is for \"solid blue line\"\n",
        "plt.plot(epochs, val_loss, 'b', label='Validation loss')\n",
        "plt.title('Training and validation loss')\n",
        "plt.xlabel('Epochs')\n",
        "plt.ylabel('Loss')\n",
        "plt.legend()\n",
        "\n",
        "plt.show()\n"
      ],
      "execution_count": 35,
      "outputs": [
        {
          "output_type": "display_data",
          "data": {
            "image/png": "[encoded data removed]",
            "text/plain": [
              "<Figure size 432x288 with 1 Axes>"
            ]
          },
          "metadata": {
            "tags": []
          }
        }
      ]
    },
    {
      "cell_type": "code",
      "metadata": {
        "id": "YpQJF-3CwM0l",
        "colab_type": "code",
        "colab": {
          "base_uri": "https://localhost:8080/",
          "height": 295
        },
        "outputId": "d636760e-9d2b-4383-eb03-6c6e9b2e6cb4"
      },
      "source": [
        "plt.plot(epochs, acc, 'bo', label='Training acc')\n",
        "plt.plot(epochs, val_acc, 'b', label='Validation acc')\n",
        "plt.title('Training and validation accuracy')\n",
        "plt.xlabel('Epochs')\n",
        "plt.ylabel('Accuracy')\n",
        "plt.legend()\n",
        "\n",
        "plt.show()"
      ],
      "execution_count": 36,
      "outputs": [
        {
          "output_type": "display_data",
          "data": {
            "image/png": "[encoded data removed]",
            "text/plain": [
              "<Figure size 432x288 with 1 Axes>"
            ]
          },
          "metadata": {
            "tags": []
          }
        }
      ]
    }
  ]
}